{
 "cells": [
  {
   "cell_type": "code",
   "execution_count": 40,
   "metadata": {},
   "outputs": [],
   "source": [
    "# Imports \n",
    "import pandas as pd\n",
    "import os\n",
    "import seaborn as sns\n",
    "import matplotlib.pyplot as plt"
   ]
  },
  {
   "cell_type": "code",
   "execution_count": 3,
   "metadata": {},
   "outputs": [
    {
     "data": {
      "text/html": [
       "<div>\n",
       "<style scoped>\n",
       "    .dataframe tbody tr th:only-of-type {\n",
       "        vertical-align: middle;\n",
       "    }\n",
       "\n",
       "    .dataframe tbody tr th {\n",
       "        vertical-align: top;\n",
       "    }\n",
       "\n",
       "    .dataframe thead th {\n",
       "        text-align: right;\n",
       "    }\n",
       "</style>\n",
       "<table border=\"1\" class=\"dataframe\">\n",
       "  <thead>\n",
       "    <tr style=\"text-align: right;\">\n",
       "      <th></th>\n",
       "      <th>date</th>\n",
       "      <th>00:00</th>\n",
       "      <th>01:00</th>\n",
       "      <th>02:00</th>\n",
       "      <th>03:00</th>\n",
       "      <th>04:00</th>\n",
       "      <th>05:00</th>\n",
       "      <th>06:00</th>\n",
       "      <th>07:00</th>\n",
       "      <th>08:00</th>\n",
       "      <th>...</th>\n",
       "      <th>14:00</th>\n",
       "      <th>15:00</th>\n",
       "      <th>16:00</th>\n",
       "      <th>17:00</th>\n",
       "      <th>18:00</th>\n",
       "      <th>19:00</th>\n",
       "      <th>20:00</th>\n",
       "      <th>21:00</th>\n",
       "      <th>22:00</th>\n",
       "      <th>23:00</th>\n",
       "    </tr>\n",
       "  </thead>\n",
       "  <tbody>\n",
       "    <tr>\n",
       "      <th>0</th>\n",
       "      <td>2017-01-01</td>\n",
       "      <td>8791.8</td>\n",
       "      <td>8569.7</td>\n",
       "      <td>8326.4</td>\n",
       "      <td>8137.5</td>\n",
       "      <td>8011.9</td>\n",
       "      <td>7978.1</td>\n",
       "      <td>8057.1</td>\n",
       "      <td>8125.8</td>\n",
       "      <td>8289.2</td>\n",
       "      <td>...</td>\n",
       "      <td>9957.6</td>\n",
       "      <td>9987.9</td>\n",
       "      <td>9943.9</td>\n",
       "      <td>10181.0</td>\n",
       "      <td>10583.5</td>\n",
       "      <td>10451.0</td>\n",
       "      <td>10230.6</td>\n",
       "      <td>10014.8</td>\n",
       "      <td>9667.7</td>\n",
       "      <td>9287.7</td>\n",
       "    </tr>\n",
       "    <tr>\n",
       "      <th>1</th>\n",
       "      <td>2017-01-02</td>\n",
       "      <td>8836.8</td>\n",
       "      <td>8588.2</td>\n",
       "      <td>8480.8</td>\n",
       "      <td>8506.0</td>\n",
       "      <td>8644.7</td>\n",
       "      <td>8887.0</td>\n",
       "      <td>9176.5</td>\n",
       "      <td>9323.8</td>\n",
       "      <td>9559.9</td>\n",
       "      <td>...</td>\n",
       "      <td>10937.1</td>\n",
       "      <td>11037.0</td>\n",
       "      <td>10931.5</td>\n",
       "      <td>10859.0</td>\n",
       "      <td>11112.1</td>\n",
       "      <td>10893.9</td>\n",
       "      <td>10594.2</td>\n",
       "      <td>10196.7</td>\n",
       "      <td>9568.1</td>\n",
       "      <td>8935.5</td>\n",
       "    </tr>\n",
       "    <tr>\n",
       "      <th>2</th>\n",
       "      <td>2017-01-03</td>\n",
       "      <td>8516.6</td>\n",
       "      <td>8238.2</td>\n",
       "      <td>8102.8</td>\n",
       "      <td>8094.3</td>\n",
       "      <td>8265.7</td>\n",
       "      <td>8816.3</td>\n",
       "      <td>9615.5</td>\n",
       "      <td>10009.8</td>\n",
       "      <td>10102.3</td>\n",
       "      <td>...</td>\n",
       "      <td>11022.6</td>\n",
       "      <td>10988.9</td>\n",
       "      <td>10883.8</td>\n",
       "      <td>10882.0</td>\n",
       "      <td>11092.8</td>\n",
       "      <td>10889.1</td>\n",
       "      <td>10577.2</td>\n",
       "      <td>10100.1</td>\n",
       "      <td>9488.8</td>\n",
       "      <td>8916.9</td>\n",
       "    </tr>\n",
       "    <tr>\n",
       "      <th>3</th>\n",
       "      <td>2017-01-04</td>\n",
       "      <td>8462.0</td>\n",
       "      <td>8316.5</td>\n",
       "      <td>8259.6</td>\n",
       "      <td>8336.3</td>\n",
       "      <td>8636.6</td>\n",
       "      <td>9357.1</td>\n",
       "      <td>10504.8</td>\n",
       "      <td>10955.0</td>\n",
       "      <td>10944.0</td>\n",
       "      <td>...</td>\n",
       "      <td>10713.0</td>\n",
       "      <td>10602.9</td>\n",
       "      <td>10638.3</td>\n",
       "      <td>11099.4</td>\n",
       "      <td>11605.9</td>\n",
       "      <td>11578.6</td>\n",
       "      <td>11416.8</td>\n",
       "      <td>11010.9</td>\n",
       "      <td>10392.6</td>\n",
       "      <td>9784.5</td>\n",
       "    </tr>\n",
       "    <tr>\n",
       "      <th>4</th>\n",
       "      <td>2017-01-05</td>\n",
       "      <td>9472.0</td>\n",
       "      <td>9198.3</td>\n",
       "      <td>9051.1</td>\n",
       "      <td>9031.1</td>\n",
       "      <td>9237.9</td>\n",
       "      <td>9836.5</td>\n",
       "      <td>10685.2</td>\n",
       "      <td>10931.8</td>\n",
       "      <td>10841.5</td>\n",
       "      <td>...</td>\n",
       "      <td>10692.5</td>\n",
       "      <td>10696.2</td>\n",
       "      <td>10791.9</td>\n",
       "      <td>11130.9</td>\n",
       "      <td>11378.8</td>\n",
       "      <td>11311.2</td>\n",
       "      <td>11194.9</td>\n",
       "      <td>10882.2</td>\n",
       "      <td>10416.8</td>\n",
       "      <td>9959.7</td>\n",
       "    </tr>\n",
       "  </tbody>\n",
       "</table>\n",
       "<p>5 rows × 25 columns</p>\n",
       "</div>"
      ],
      "text/plain": [
       "         date   00:00   01:00   02:00   03:00   04:00   05:00    06:00  \\\n",
       "0  2017-01-01  8791.8  8569.7  8326.4  8137.5  8011.9  7978.1   8057.1   \n",
       "1  2017-01-02  8836.8  8588.2  8480.8  8506.0  8644.7  8887.0   9176.5   \n",
       "2  2017-01-03  8516.6  8238.2  8102.8  8094.3  8265.7  8816.3   9615.5   \n",
       "3  2017-01-04  8462.0  8316.5  8259.6  8336.3  8636.6  9357.1  10504.8   \n",
       "4  2017-01-05  9472.0  9198.3  9051.1  9031.1  9237.9  9836.5  10685.2   \n",
       "\n",
       "     07:00    08:00  ...    14:00    15:00    16:00    17:00    18:00  \\\n",
       "0   8125.8   8289.2  ...   9957.6   9987.9   9943.9  10181.0  10583.5   \n",
       "1   9323.8   9559.9  ...  10937.1  11037.0  10931.5  10859.0  11112.1   \n",
       "2  10009.8  10102.3  ...  11022.6  10988.9  10883.8  10882.0  11092.8   \n",
       "3  10955.0  10944.0  ...  10713.0  10602.9  10638.3  11099.4  11605.9   \n",
       "4  10931.8  10841.5  ...  10692.5  10696.2  10791.9  11130.9  11378.8   \n",
       "\n",
       "     19:00    20:00    21:00    22:00   23:00  \n",
       "0  10451.0  10230.6  10014.8   9667.7  9287.7  \n",
       "1  10893.9  10594.2  10196.7   9568.1  8935.5  \n",
       "2  10889.1  10577.2  10100.1   9488.8  8916.9  \n",
       "3  11578.6  11416.8  11010.9  10392.6  9784.5  \n",
       "4  11311.2  11194.9  10882.2  10416.8  9959.7  \n",
       "\n",
       "[5 rows x 25 columns]"
      ]
     },
     "execution_count": 3,
     "metadata": {},
     "output_type": "execute_result"
    }
   ],
   "source": [
    "# Read the data\n",
    "data_url = (\"https://raw.githubusercontent.com/tamu-engineering-research/COVID-EMDA/master/data_release/ercot/ercot_houston_load.csv\")\n",
    "\n",
    "df = pd.read_csv(data_url)\n",
    "\n",
    "df.head()"
   ]
  },
  {
   "cell_type": "code",
   "execution_count": 4,
   "metadata": {},
   "outputs": [
    {
     "name": "stdout",
     "output_type": "stream",
     "text": [
      "<class 'pandas.core.frame.DataFrame'>\n",
      "RangeIndex: 1793 entries, 0 to 1792\n",
      "Data columns (total 25 columns):\n",
      " #   Column  Non-Null Count  Dtype  \n",
      "---  ------  --------------  -----  \n",
      " 0   date    1793 non-null   object \n",
      " 1   00:00   1793 non-null   float64\n",
      " 2   01:00   1793 non-null   float64\n",
      " 3   02:00   1793 non-null   float64\n",
      " 4   03:00   1793 non-null   float64\n",
      " 5   04:00   1793 non-null   float64\n",
      " 6   05:00   1793 non-null   float64\n",
      " 7   06:00   1793 non-null   float64\n",
      " 8   07:00   1793 non-null   float64\n",
      " 9   08:00   1793 non-null   float64\n",
      " 10  09:00   1793 non-null   float64\n",
      " 11  10:00   1793 non-null   float64\n",
      " 12  11:00   1793 non-null   float64\n",
      " 13  12:00   1793 non-null   float64\n",
      " 14  13:00   1793 non-null   float64\n",
      " 15  14:00   1793 non-null   float64\n",
      " 16  15:00   1793 non-null   float64\n",
      " 17  16:00   1793 non-null   float64\n",
      " 18  17:00   1793 non-null   float64\n",
      " 19  18:00   1793 non-null   float64\n",
      " 20  19:00   1793 non-null   float64\n",
      " 21  20:00   1793 non-null   float64\n",
      " 22  21:00   1793 non-null   float64\n",
      " 23  22:00   1793 non-null   float64\n",
      " 24  23:00   1793 non-null   float64\n",
      "dtypes: float64(24), object(1)\n",
      "memory usage: 350.3+ KB\n"
     ]
    }
   ],
   "source": [
    "# Examine data\n",
    "df.info()"
   ]
  },
  {
   "cell_type": "code",
   "execution_count": 20,
   "metadata": {},
   "outputs": [
    {
     "data": {
      "text/html": [
       "<div>\n",
       "<style scoped>\n",
       "    .dataframe tbody tr th:only-of-type {\n",
       "        vertical-align: middle;\n",
       "    }\n",
       "\n",
       "    .dataframe tbody tr th {\n",
       "        vertical-align: top;\n",
       "    }\n",
       "\n",
       "    .dataframe thead th {\n",
       "        text-align: right;\n",
       "    }\n",
       "</style>\n",
       "<table border=\"1\" class=\"dataframe\">\n",
       "  <thead>\n",
       "    <tr style=\"text-align: right;\">\n",
       "      <th></th>\n",
       "      <th>time</th>\n",
       "      <th>Energy_Consumption</th>\n",
       "    </tr>\n",
       "  </thead>\n",
       "  <tbody>\n",
       "    <tr>\n",
       "      <th>0</th>\n",
       "      <td>2017-01-01 00:00:00</td>\n",
       "      <td>8791.8</td>\n",
       "    </tr>\n",
       "    <tr>\n",
       "      <th>1</th>\n",
       "      <td>2017-01-01 01:00:00</td>\n",
       "      <td>8569.7</td>\n",
       "    </tr>\n",
       "    <tr>\n",
       "      <th>2</th>\n",
       "      <td>2017-01-01 02:00:00</td>\n",
       "      <td>8326.4</td>\n",
       "    </tr>\n",
       "    <tr>\n",
       "      <th>3</th>\n",
       "      <td>2017-01-01 03:00:00</td>\n",
       "      <td>8137.5</td>\n",
       "    </tr>\n",
       "    <tr>\n",
       "      <th>4</th>\n",
       "      <td>2017-01-01 04:00:00</td>\n",
       "      <td>8011.9</td>\n",
       "    </tr>\n",
       "  </tbody>\n",
       "</table>\n",
       "</div>"
      ],
      "text/plain": [
       "                 time  Energy_Consumption\n",
       "0 2017-01-01 00:00:00              8791.8\n",
       "1 2017-01-01 01:00:00              8569.7\n",
       "2 2017-01-01 02:00:00              8326.4\n",
       "3 2017-01-01 03:00:00              8137.5\n",
       "4 2017-01-01 04:00:00              8011.9"
      ]
     },
     "execution_count": 20,
     "metadata": {},
     "output_type": "execute_result"
    }
   ],
   "source": [
    "# Combine date and hour columns into a single column\n",
    "combined_df = pd.melt(df, id_vars=['date'], var_name='Hour', value_name='Energy_Consumption')\n",
    "combined_df['time'] = combined_df['date'] + ' ' + combined_df['Hour']\n",
    "combined_df['time'] = pd.to_datetime(combined_df['time'])\n",
    "combined_df.drop(['date', 'Hour'], axis=1, inplace=True)\n",
    "combined_df.sort_values('time', inplace=True)\n",
    "combined_df.reset_index(drop=True, inplace=True)\n",
    "combined_df = combined_df[['time', 'Energy_Consumption']]\n",
    "\n",
    "combined_df.head()"
   ]
  },
  {
   "cell_type": "code",
   "execution_count": 23,
   "metadata": {},
   "outputs": [
    {
     "data": {
      "text/plain": [
       "RangeIndex(start=0, stop=43032, step=1)"
      ]
     },
     "execution_count": 23,
     "metadata": {},
     "output_type": "execute_result"
    }
   ],
   "source": [
    "combined_df.index"
   ]
  },
  {
   "cell_type": "code",
   "execution_count": 25,
   "metadata": {},
   "outputs": [
    {
     "name": "stdout",
     "output_type": "stream",
     "text": [
      "<class 'pandas.core.frame.DataFrame'>\n",
      "RangeIndex: 43032 entries, 0 to 43031\n",
      "Data columns (total 2 columns):\n",
      " #   Column              Non-Null Count  Dtype         \n",
      "---  ------              --------------  -----         \n",
      " 0   time                43032 non-null  datetime64[ns]\n",
      " 1   Energy_Consumption  43032 non-null  float64       \n",
      "dtypes: datetime64[ns](1), float64(1)\n",
      "memory usage: 672.5 KB\n"
     ]
    }
   ],
   "source": [
    "combined_df.info()"
   ]
  },
  {
   "cell_type": "code",
   "execution_count": 26,
   "metadata": {},
   "outputs": [
    {
     "data": {
      "text/html": [
       "<div>\n",
       "<style scoped>\n",
       "    .dataframe tbody tr th:only-of-type {\n",
       "        vertical-align: middle;\n",
       "    }\n",
       "\n",
       "    .dataframe tbody tr th {\n",
       "        vertical-align: top;\n",
       "    }\n",
       "\n",
       "    .dataframe thead th {\n",
       "        text-align: right;\n",
       "    }\n",
       "</style>\n",
       "<table border=\"1\" class=\"dataframe\">\n",
       "  <thead>\n",
       "    <tr style=\"text-align: right;\">\n",
       "      <th></th>\n",
       "      <th>count</th>\n",
       "      <th>mean</th>\n",
       "      <th>min</th>\n",
       "      <th>25%</th>\n",
       "      <th>50%</th>\n",
       "      <th>75%</th>\n",
       "      <th>max</th>\n",
       "      <th>std</th>\n",
       "    </tr>\n",
       "  </thead>\n",
       "  <tbody>\n",
       "    <tr>\n",
       "      <th>time</th>\n",
       "      <td>43032</td>\n",
       "      <td>2019-06-16 17:14:32.392637952</td>\n",
       "      <td>2017-01-01 00:00:00</td>\n",
       "      <td>2018-03-25 05:45:00</td>\n",
       "      <td>2019-06-16 11:30:00</td>\n",
       "      <td>2020-09-06 17:15:00</td>\n",
       "      <td>2021-11-30 23:00:00</td>\n",
       "      <td>NaN</td>\n",
       "    </tr>\n",
       "    <tr>\n",
       "      <th>Energy_Consumption</th>\n",
       "      <td>43032.0</td>\n",
       "      <td>12288.986159</td>\n",
       "      <td>6844.0</td>\n",
       "      <td>10351.575</td>\n",
       "      <td>11620.9</td>\n",
       "      <td>13784.05</td>\n",
       "      <td>21256.1</td>\n",
       "      <td>2699.001514</td>\n",
       "    </tr>\n",
       "  </tbody>\n",
       "</table>\n",
       "</div>"
      ],
      "text/plain": [
       "                      count                           mean  \\\n",
       "time                  43032  2019-06-16 17:14:32.392637952   \n",
       "Energy_Consumption  43032.0                   12288.986159   \n",
       "\n",
       "                                    min                  25%  \\\n",
       "time                2017-01-01 00:00:00  2018-03-25 05:45:00   \n",
       "Energy_Consumption               6844.0            10351.575   \n",
       "\n",
       "                                    50%                  75%  \\\n",
       "time                2019-06-16 11:30:00  2020-09-06 17:15:00   \n",
       "Energy_Consumption              11620.9             13784.05   \n",
       "\n",
       "                                    max          std  \n",
       "time                2021-11-30 23:00:00          NaN  \n",
       "Energy_Consumption              21256.1  2699.001514  "
      ]
     },
     "execution_count": 26,
     "metadata": {},
     "output_type": "execute_result"
    }
   ],
   "source": [
    "# statistics of the data set. Here T is to transpose the matrix.\n",
    "combined_df.describe().T"
   ]
  },
  {
   "cell_type": "code",
   "execution_count": 27,
   "metadata": {},
   "outputs": [],
   "source": [
    "df_filled=combined_df.bfill().ffill()"
   ]
  },
  {
   "cell_type": "code",
   "execution_count": 28,
   "metadata": {},
   "outputs": [
    {
     "name": "stdout",
     "output_type": "stream",
     "text": [
      "<class 'pandas.core.frame.DataFrame'>\n",
      "RangeIndex: 43032 entries, 0 to 43031\n",
      "Data columns (total 2 columns):\n",
      " #   Column              Non-Null Count  Dtype         \n",
      "---  ------              --------------  -----         \n",
      " 0   time                43032 non-null  datetime64[ns]\n",
      " 1   Energy_Consumption  43032 non-null  float64       \n",
      "dtypes: datetime64[ns](1), float64(1)\n",
      "memory usage: 672.5 KB\n"
     ]
    },
    {
     "data": {
      "text/html": [
       "<div>\n",
       "<style scoped>\n",
       "    .dataframe tbody tr th:only-of-type {\n",
       "        vertical-align: middle;\n",
       "    }\n",
       "\n",
       "    .dataframe tbody tr th {\n",
       "        vertical-align: top;\n",
       "    }\n",
       "\n",
       "    .dataframe thead th {\n",
       "        text-align: right;\n",
       "    }\n",
       "</style>\n",
       "<table border=\"1\" class=\"dataframe\">\n",
       "  <thead>\n",
       "    <tr style=\"text-align: right;\">\n",
       "      <th></th>\n",
       "      <th>time</th>\n",
       "      <th>Energy_Consumption</th>\n",
       "    </tr>\n",
       "  </thead>\n",
       "  <tbody>\n",
       "    <tr>\n",
       "      <th>0</th>\n",
       "      <td>2017-01-01 00:00:00</td>\n",
       "      <td>8791.8</td>\n",
       "    </tr>\n",
       "    <tr>\n",
       "      <th>1</th>\n",
       "      <td>2017-01-01 01:00:00</td>\n",
       "      <td>8569.7</td>\n",
       "    </tr>\n",
       "    <tr>\n",
       "      <th>2</th>\n",
       "      <td>2017-01-01 02:00:00</td>\n",
       "      <td>8326.4</td>\n",
       "    </tr>\n",
       "    <tr>\n",
       "      <th>3</th>\n",
       "      <td>2017-01-01 03:00:00</td>\n",
       "      <td>8137.5</td>\n",
       "    </tr>\n",
       "    <tr>\n",
       "      <th>4</th>\n",
       "      <td>2017-01-01 04:00:00</td>\n",
       "      <td>8011.9</td>\n",
       "    </tr>\n",
       "    <tr>\n",
       "      <th>...</th>\n",
       "      <td>...</td>\n",
       "      <td>...</td>\n",
       "    </tr>\n",
       "    <tr>\n",
       "      <th>43027</th>\n",
       "      <td>2021-11-30 19:00:00</td>\n",
       "      <td>11935.8</td>\n",
       "    </tr>\n",
       "    <tr>\n",
       "      <th>43028</th>\n",
       "      <td>2021-11-30 20:00:00</td>\n",
       "      <td>11713.2</td>\n",
       "    </tr>\n",
       "    <tr>\n",
       "      <th>43029</th>\n",
       "      <td>2021-11-30 21:00:00</td>\n",
       "      <td>11335.0</td>\n",
       "    </tr>\n",
       "    <tr>\n",
       "      <th>43030</th>\n",
       "      <td>2021-11-30 22:00:00</td>\n",
       "      <td>10795.9</td>\n",
       "    </tr>\n",
       "    <tr>\n",
       "      <th>43031</th>\n",
       "      <td>2021-11-30 23:00:00</td>\n",
       "      <td>10302.1</td>\n",
       "    </tr>\n",
       "  </tbody>\n",
       "</table>\n",
       "<p>43032 rows × 2 columns</p>\n",
       "</div>"
      ],
      "text/plain": [
       "                     time  Energy_Consumption\n",
       "0     2017-01-01 00:00:00              8791.8\n",
       "1     2017-01-01 01:00:00              8569.7\n",
       "2     2017-01-01 02:00:00              8326.4\n",
       "3     2017-01-01 03:00:00              8137.5\n",
       "4     2017-01-01 04:00:00              8011.9\n",
       "...                   ...                 ...\n",
       "43027 2021-11-30 19:00:00             11935.8\n",
       "43028 2021-11-30 20:00:00             11713.2\n",
       "43029 2021-11-30 21:00:00             11335.0\n",
       "43030 2021-11-30 22:00:00             10795.9\n",
       "43031 2021-11-30 23:00:00             10302.1\n",
       "\n",
       "[43032 rows x 2 columns]"
      ]
     },
     "execution_count": 28,
     "metadata": {},
     "output_type": "execute_result"
    }
   ],
   "source": [
    "df_filled.info()\n",
    "df_filled"
   ]
  },
  {
   "cell_type": "code",
   "execution_count": 36,
   "metadata": {},
   "outputs": [],
   "source": [
    "# Convert time column to datetime\n",
    "df_filled['time'] = pd.to_datetime(df_filled['time'])  \n",
    "\n",
    "# Set 'time' column as index\n",
    "df_filled.set_index('time', inplace=True)\n",
    "\n",
    "# Resample and calculate the difference\n",
    "X = df_filled[\"Energy_Consumption\"].resample(\"h\").mean().diff(periods=1).values[2:]"
   ]
  },
  {
   "cell_type": "code",
   "execution_count": 46,
   "metadata": {},
   "outputs": [
    {
     "data": {
      "image/png": "[encoded data removed]",
      "text/plain": [
       "<Figure size 1500x400 with 1 Axes>"
      ]
     },
     "metadata": {},
     "output_type": "display_data"
    }
   ],
   "source": [
    "df_monthly_median = df_filled[[\"Energy_Consumption\"]].resample(\"m\").median(); df_monthly_median\n",
    "df_monthly_median[\"Energy_Consumption\"].plot(title=\"Houston Power Consumption (MWh)\", figsize=(15,4)).figure.savefig(\"energy.png\");"
   ]
  },
  {
   "cell_type": "code",
   "execution_count": 47,
   "metadata": {},
   "outputs": [],
   "source": [
    "# Imports for ARIMA model\n",
    "from statsmodels.tsa.ar_model import AutoReg\n",
    "from statsmodels.tsa.arima.model import ARIMA\n",
    "from sklearn.metrics import mean_squared_error\n",
    "from sklearn.model_selection import train_test_split"
   ]
  },
  {
   "cell_type": "code",
   "execution_count": 55,
   "metadata": {},
   "outputs": [
    {
     "data": {
      "text/plain": [
       "[<matplotlib.lines.Line2D at 0x1c58e044dd0>]"
      ]
     },
     "execution_count": 55,
     "metadata": {},
     "output_type": "execute_result"
    },
    {
     "data": {
      "image/png": "[encoded data removed]",
      "text/plain": [
       "<Figure size 640x480 with 1 Axes>"
      ]
     },
     "metadata": {},
     "output_type": "display_data"
    }
   ],
   "source": [
    "# Detrend the data\n",
    "X = df_filled[\"Energy_Consumption\"].resample(\"h\").mean().diff(periods=1).values[2:]\n",
    "plt.plot(X)"
   ]
  },
  {
   "cell_type": "code",
   "execution_count": 60,
   "metadata": {},
   "outputs": [],
   "source": [
    "#X_train, X_test = train_test_split(X, test_size=0.20, random_state=42)\n",
    "X_train = X[:34462]\n",
    "X_test = X[34462:]"
   ]
  },
  {
   "cell_type": "code",
   "execution_count": 61,
   "metadata": {},
   "outputs": [
    {
     "data": {
      "text/plain": [
       "(43078,)"
      ]
     },
     "execution_count": 61,
     "metadata": {},
     "output_type": "execute_result"
    }
   ],
   "source": [
    "X.shape"
   ]
  },
  {
   "cell_type": "code",
   "execution_count": 62,
   "metadata": {},
   "outputs": [
    {
     "data": {
      "text/plain": [
       "(34462,)"
      ]
     },
     "execution_count": 62,
     "metadata": {},
     "output_type": "execute_result"
    }
   ],
   "source": [
    "X_train.shape"
   ]
  },
  {
   "cell_type": "code",
   "execution_count": 63,
   "metadata": {},
   "outputs": [
    {
     "data": {
      "text/plain": [
       "(8616,)"
      ]
     },
     "execution_count": 63,
     "metadata": {},
     "output_type": "execute_result"
    }
   ],
   "source": [
    "X_test.shape"
   ]
  }
 ],
 "metadata": {
  "kernelspec": {
   "display_name": "Python 3",
   "language": "python",
   "name": "python3"
  },
  "language_info": {
   "codemirror_mode": {
    "name": "ipython",
    "version": 3
   },
   "file_extension": ".py",
   "mimetype": "text/x-python",
   "name": "python",
   "nbconvert_exporter": "python",
   "pygments_lexer": "ipython3",
   "version": "3.11.4"
  }
 },
 "nbformat": 4,
 "nbformat_minor": 2
}
